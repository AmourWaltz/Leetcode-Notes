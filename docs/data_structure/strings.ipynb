{
 "cells": [
  {
   "cell_type": "markdown",
   "metadata": {},
   "source": [
    "# 字符串"
   ]
  },
  {
   "attachments": {},
   "cell_type": "markdown",
   "metadata": {},
   "source": [
    "### 242. 有效的字母异位词\n",
    "\n",
    "给定两个字符串 s 和 t ，编写一个函数来判断 t 是否是 s 的字母异位词。\n",
    "\n",
    "注意：若 s 和 t 中每个字符出现的次数都相同，则称 s 和 t 互为字母异位词。"
   ]
  },
  {
   "cell_type": "code",
   "execution_count": 3,
   "metadata": {},
   "outputs": [],
   "source": [
    "class Solution:\n",
    "    def isAnagram(self, s: str, t: str) -> bool:\n",
    "        s_dic, t_dic = {}, {}\n",
    "        for i in s:\n",
    "            s_dic[i] = s_dic.get(i, 0) + 1\n",
    "        \n",
    "        for i in t:\n",
    "            t_dic[i] = t_dic.get(i, 0) + 1\n",
    "\n",
    "        return s_dic == t_dic"
   ]
  },
  {
   "attachments": {},
   "cell_type": "markdown",
   "metadata": {},
   "source": [
    "#### 解题思路\n",
    "\n",
    "1. 思路一：引入字典统计，判断两个字典是否相同。"
   ]
  },
  {
   "cell_type": "code",
   "execution_count": 8,
   "metadata": {},
   "outputs": [],
   "source": [
    "class Solution:\n",
    "    def isAnagram(self, s: str, t: str) -> bool:\n",
    "        return sorted(s) == sorted(t)"
   ]
  },
  {
   "attachments": {},
   "cell_type": "markdown",
   "metadata": {},
   "source": [
    "#### 解题思路\n",
    "\n",
    "1. 思路二：对字符串重新排序，判断排序后的字符串是否相同。"
   ]
  },
  {
   "attachments": {},
   "cell_type": "markdown",
   "metadata": {},
   "source": [
    "### 205. 同构字符串\n",
    "\n",
    "给定两个字符串 s 和 t ，判断它们是否是同构的。\n",
    "\n",
    "如果 s 中的字符可以按某种映射关系替换得到 t ，那么这两个字符串是同构的。\n",
    "\n",
    "每个出现的字符都应当映射到另一个字符，同时不改变字符的顺序。不同字符不能映射到同一个字符上，相同字符只能映射到同一个字符上，字符可以映射到自己本身。"
   ]
  },
  {
   "cell_type": "code",
   "execution_count": 7,
   "metadata": {},
   "outputs": [],
   "source": [
    "class Solution:\n",
    "    def isIsomorphic(self, s: str, t: str) -> bool:\n",
    "        return len(set(s)) == len(set(t)) == len(set(zip(s,t)))"
   ]
  },
  {
   "attachments": {},
   "cell_type": "markdown",
   "metadata": {},
   "source": [
    "#### 解题思路\n",
    "\n",
    "1. 思路一（注释）：把 s 和 t 转变为集合，再使用 zip 打包，判断依据为同构字符串包含的不同字符的数量，以及对应后组成的不同元组的数量都相同。"
   ]
  },
  {
   "cell_type": "code",
   "execution_count": 6,
   "metadata": {},
   "outputs": [],
   "source": [
    "class Solution:\n",
    "    def isIsomorphic(self, s: str, t: str) -> bool:\n",
    "        if len(s) != len(t):\n",
    "            return False\n",
    "        s_dict = {}\n",
    "        for idx, i in enumerate(s):\n",
    "            if i not in s_dict:\n",
    "                if t[idx] in s_dict.values():\n",
    "                    return False\n",
    "                s_dict[i] = t[idx]\n",
    "            else:\n",
    "                if s_dict[i] != t[idx]:\n",
    "                    return False\n",
    "        \n",
    "        return True"
   ]
  },
  {
   "attachments": {},
   "cell_type": "markdown",
   "metadata": {},
   "source": [
    "#### 解题思路\n",
    "\n",
    "1. 思路二：循环依次判断，引入一个词典存储 s 每个字符到 t 的映射关系，即遍历 s 新出现字符时，t 对应的字符不应该出现在词典值中；而当遍历 s 的字符已经出现过时，那么词典的值应该等于 t 对应的字符。"
   ]
  },
  {
   "attachments": {},
   "cell_type": "markdown",
   "metadata": {},
   "source": [
    "### 409. 最长回文串\n",
    "\n",
    "给定一个包含大写字母和小写字母的字符串 s ，返回 通过这些字母构造成的 最长的回文串 。\n",
    "\n",
    "在构造过程中，请注意 区分大小写 。比如 \"Aa\" 不能当做一个回文字符串。"
   ]
  },
  {
   "cell_type": "code",
   "execution_count": 4,
   "metadata": {},
   "outputs": [],
   "source": [
    "class Solution:\n",
    "    def longestPalindrome(self, s: str) -> int:\n",
    "        s_sict = {}\n",
    "        res = 0\n",
    "        flag = 0\n",
    "        for i in s:\n",
    "            if i in s_sict:\n",
    "                s_sict[i] += 1\n",
    "            else:\n",
    "                s_sict[i] = 1\n",
    "\n",
    "        for k in s_sict.keys():\n",
    "            if s_sict[k] % 2 == 1:\n",
    "                res += s_sict[k] - 1\n",
    "                if flag == 0:\n",
    "                    res += 1\n",
    "                    flag = 1\n",
    "            else:\n",
    "                res += s_sict[k]\n",
    "\n",
    "        return res"
   ]
  },
  {
   "cell_type": "code",
   "execution_count": 5,
   "metadata": {},
   "outputs": [],
   "source": [
    "class Solution:\n",
    "    def longestPalindrome(self, s: str) -> int:\n",
    "        return len(s) - max(0, sum([s.count(i) % 2 for i in set(s)]) - 1)"
   ]
  },
  {
   "attachments": {},
   "cell_type": "markdown",
   "metadata": {},
   "source": [
    "#### 解题思路\n",
    "\n",
    "1. 统计每个字符字数，偶数直接加，奇数加次数减一，最后如果次数里有奇数，再额外加一。"
   ]
  },
  {
   "attachments": {},
   "cell_type": "markdown",
   "metadata": {},
   "source": [
    "### 696. 计数二进制子串\n",
    "\n",
    "给定一个字符串 s，统计并返回具有相同数量 0 和 1 的非空（连续）子字符串的数量，并且这些子字符串中的所有 0 和所有 1 都是成组连续的。\n",
    "\n",
    "重复出现（不同位置）的子串也要统计它们出现的次数。"
   ]
  },
  {
   "cell_type": "code",
   "execution_count": 2,
   "metadata": {},
   "outputs": [],
   "source": [
    "class Solution:\n",
    "    def countBinarySubstrings(self, s: str) -> int:\n",
    "        cur_length = 1\n",
    "        pre_length = 0\n",
    "        result = 0\n",
    "        \n",
    "        for i in range((len(s) - 1)):\n",
    "            if s[i] == s[i + 1]:\n",
    "                cur_length = cur_length + 1\n",
    "            else:\n",
    "                pre_length = cur_length\n",
    "                cur_length = 1\n",
    "                \n",
    "            if pre_length >= cur_length:\n",
    "                result = result + 1\n",
    "        return result"
   ]
  },
  {
   "attachments": {},
   "cell_type": "markdown",
   "metadata": {},
   "source": [
    "#### 解题思路\n",
    "\n",
    "1. 当前值不等于前一位的值，说明此时发生了01切换；pre_length 记录前一个数字出现的次数，cur_length 记录当前数字出现的次数，pre_length >= cur_length 时，计数+1。"
   ]
  },
  {
   "attachments": {},
   "cell_type": "markdown",
   "metadata": {},
   "source": [
    "### 9. 回文数\n",
    "\n",
    "给你一个整数 x ，如果 x 是一个回文整数，返回 true ；否则，返回 false 。\n",
    "\n",
    "回文数是指正序（从左向右）和倒序（从右向左）读都是一样的整数。\n",
    "\n",
    "例如，121 是回文，而 123 不是。"
   ]
  },
  {
   "cell_type": "code",
   "execution_count": 1,
   "metadata": {},
   "outputs": [],
   "source": [
    "class Solution:\n",
    "    def isPalindrome(self, x: int) -> bool:\n",
    "        if x < 0:\n",
    "            return False\n",
    "        else:\n",
    "            x = str(x)\n",
    "            length_x = len(x)\n",
    "            left, right = 0, length_x-1\n",
    "            while left < right:\n",
    "                if x[left] != x[right]:\n",
    "                    return False\n",
    "                else:\n",
    "                    left += 1\n",
    "                    right -= 1\n",
    "        return True"
   ]
  },
  {
   "cell_type": "code",
   "execution_count": 3,
   "metadata": {},
   "outputs": [],
   "source": [
    "class Solution:\n",
    "    def isPalindrome(self, x: int) -> bool:\n",
    "        return str(x) == str(x)[::-1]"
   ]
  },
  {
   "attachments": {},
   "cell_type": "markdown",
   "metadata": {},
   "source": [
    "#### 解题思路\n",
    "\n",
    "1. python 列表切片 list[start_index: stop_index: step]，先转化为字符串然后翻转判断即可。"
   ]
  },
  {
   "attachments": {},
   "cell_type": "markdown",
   "metadata": {},
   "source": [
    "### 647. 回文子串\n",
    "\n",
    "给你一个字符串 s ，请你统计并返回这个字符串中 回文子串 的数目。\n",
    "\n",
    "回文字符串 是正着读和倒过来读一样的字符串。\n",
    "\n",
    "子字符串 是字符串中的由连续字符组成的一个序列。\n",
    "\n",
    "具有不同开始位置或结束位置的子串，即使是由相同的字符组成，也会被视作不同的子串。"
   ]
  },
  {
   "cell_type": "code",
   "execution_count": 2,
   "metadata": {},
   "outputs": [],
   "source": [
    "class Solution:\n",
    "    def countSubstrings(self, s: str) -> int:\n",
    "        res = 0\n",
    "        for i in range(len(s)):\n",
    "            for j in range(i+1, len(s)+1):\n",
    "                if s[i:j] == s[i:j][::-1]:\n",
    "                    res += 1\n",
    "        \n",
    "        return res"
   ]
  },
  {
   "attachments": {},
   "cell_type": "markdown",
   "metadata": {},
   "source": [
    "#### 解题思路\n",
    "\n",
    "1. 暴力解法：两层for循环，遍历区间起始位置和终止位置，然后判断这个区间是不是回文。"
   ]
  },
  {
   "cell_type": "code",
   "execution_count": 1,
   "metadata": {},
   "outputs": [],
   "source": [
    "class Solution:\n",
    "    def countSubstrings(self, s: str) -> int:\n",
    "        dp = [[False] * len(s) for _ in range(len(s))]\n",
    "        res = 0\n",
    "        for j in range(0, len(s)):\n",
    "            for i in range(0, j + 1):\n",
    "                if s[i] == s[j]:\n",
    "                    if j - i <= 1:\n",
    "                        res += 1\n",
    "                        dp[i][j] = True \n",
    "                    elif dp[i + 1][j - 1]:\n",
    "                        res += 1\n",
    "                        dp[i][j] = True \n",
    "        return res "
   ]
  },
  {
   "attachments": {},
   "cell_type": "markdown",
   "metadata": {},
   "source": [
    "#### 解题思路\n",
    "\n",
    "1. 动态规划：1. 确定dp数组（dp table）以及下标的含义：表示区间范围[i,j] （注意是左闭右闭）的子串是否是回文子串，如果是 dp[i][j] 为 true，否则为 false；2. 确定递推公式：s[i]==s[j]，下标 i 与 j 相差大于 1 的时候，例如 cabac，此时 s[i] 与 s[j] 已经相同了，我们看i到j区间是不是回文子串就看 aba 是不是回文就可以了，那么 aba 的区间就是 i+1 与 j-1 区间，这个区间是不是回文就看 dp[i+1][j-1] 是否为 true。"
   ]
  },
  {
   "cell_type": "code",
   "execution_count": null,
   "metadata": {},
   "outputs": [],
   "source": [
    "class Solution:\n",
    "    def matrixReshape(self, mat: List[List[int]], r: int, c: int) -> List[List[int]]:\n",
    "        m = len(mat)\n",
    "        n = len(mat[0])\n",
    "\n",
    "        if m * n != r * c:\n",
    "            return mat\n",
    "        \n",
    "        new_mat = [[0 for _ in range(c)] for _ in range(r)]\n",
    "\n",
    "        for i in range(m):\n",
    "            for j in range(n):\n",
    "                new_mat[int((i * n + j) / c)][(i * n + j) % c] = mat[i][j]\n",
    "\n",
    "        return new_mat"
   ]
  },
  {
   "cell_type": "markdown",
   "metadata": {},
   "source": []
  }
 ],
 "metadata": {
  "kernelspec": {
   "display_name": "base",
   "language": "python",
   "name": "python3"
  },
  "language_info": {
   "codemirror_mode": {
    "name": "ipython",
    "version": 3
   },
   "file_extension": ".py",
   "mimetype": "text/x-python",
   "name": "python",
   "nbconvert_exporter": "python",
   "pygments_lexer": "ipython3",
   "version": "3.7.8"
  },
  "orig_nbformat": 4,
  "vscode": {
   "interpreter": {
    "hash": "eb16a45d3969af144375f8a71e40c490388b4fb3c27d50b5e869e018dcf9dd9d"
   }
  }
 },
 "nbformat": 4,
 "nbformat_minor": 2
}
