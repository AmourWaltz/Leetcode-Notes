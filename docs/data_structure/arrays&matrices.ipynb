{
 "cells": [
  {
   "cell_type": "markdown",
   "metadata": {},
   "source": [
    "# 数组和矩阵"
   ]
  },
  {
   "attachments": {},
   "cell_type": "markdown",
   "metadata": {},
   "source": [
    "### 283. 移动零\n",
    "\n",
    "给定一个数组 nums，编写一个函数将所有 0 移动到数组的末尾，同时保持非零元素的相对顺序。\n",
    "\n",
    "请注意 ，必须在不复制数组的情况下原地对数组进行操作。"
   ]
  },
  {
   "cell_type": "code",
   "execution_count": 2,
   "metadata": {},
   "outputs": [],
   "source": [
    "from typing import List\n",
    "\n",
    "class Solution:\n",
    "    def moveZeroes(self, nums: List[int]) -> None:\n",
    "        \"\"\"\n",
    "        Do not return anything, modify nums in-place instead.\n",
    "        \"\"\"\n",
    "        p1, p2 = 0, 1\n",
    "        length = len(nums)\n",
    "\n",
    "        while p2 < length:\n",
    "            if nums[p1] != 0 and p1 < (length - 1):\n",
    "                p1 += 1\n",
    "            \n",
    "            if nums[p1] == 0 and nums[p2] != 0:\n",
    "                nums[p1] = nums[p2]\n",
    "                nums[p2] = 0\n",
    "\n",
    "            p2 += 1"
   ]
  },
  {
   "attachments": {},
   "cell_type": "markdown",
   "metadata": {},
   "source": [
    "#### 解题思路：\n",
    "\n",
    "1. 定义快慢双指针，快指针遍历nums，遇到不为零的数，将快指针对应的数给慢指针对应的数，慢指针再右移一位；\n",
    "2. 快指针遍历一遍之后，所有不为 0 的数都已经到了数组的最前面，从慢指针开始，往后的数都赋值为 0 即可。"
   ]
  },
  {
   "attachments": {},
   "cell_type": "markdown",
   "metadata": {},
   "source": [
    "### 645. 错误的集合\n",
    "\n",
    "集合 s 包含从 1 到 n 的整数。不幸的是，因为数据错误，导致集合里面某一个数字复制了成了集合里面的另外一个数字的值，导致集合 丢失了一个数字 并且 有一个数字重复 。\n",
    "\n",
    "给定一个数组 nums 代表了集合 S 发生错误后的结果。\n",
    "\n",
    "请你找出重复出现的整数，再找到丢失的整数，将它们以数组的形式返回"
   ]
  },
  {
   "cell_type": "code",
   "execution_count": 5,
   "metadata": {},
   "outputs": [],
   "source": [
    "from typing import List\n",
    "\n",
    "class Solution:\n",
    "    def findErrorNums(self, nums: List[int]) -> List[int]:\n",
    "        cnt = [0 for _ in range(len(nums))]\n",
    "\n",
    "        for i in nums:\n",
    "            if cnt[i-1] == 1:\n",
    "                rep = i\n",
    "            cnt[i-1] = 1\n",
    "\n",
    "        for i, num in enumerate(cnt):\n",
    "            if num == 0:\n",
    "                return [rep, i+1]"
   ]
  },
  {
   "attachments": {},
   "cell_type": "markdown",
   "metadata": {},
   "source": [
    "#### 解题思路：\n",
    "\n",
    "1. 使用一个额外的全零数组，统计出现过的数字全部置为 1，记录唯一重复的数字，同时返回 0 的位置。"
   ]
  },
  {
   "cell_type": "code",
   "execution_count": 4,
   "metadata": {},
   "outputs": [],
   "source": [
    "from typing import List\n",
    "\n",
    "class Solution:\n",
    "    def findErrorNums(self, nums: List[int]) -> List[int]:\n",
    "        s = sum(set(nums))\n",
    "        n = sum(nums)\n",
    "        c = 0\n",
    "        for i in range(1, len(nums)+1):\n",
    "            c += i\n",
    "        return [n-s, c-s]"
   ]
  },
  {
   "attachments": {},
   "cell_type": "markdown",
   "metadata": {},
   "source": [
    "#### 解题思路：\n",
    "\n",
    "1. python set()，数学方法，求1+2...+N的和，nums唯一set()的和，和nums的和对应做减法直接得到结果。"
   ]
  },
  {
   "attachments": {},
   "cell_type": "markdown",
   "metadata": {},
   "source": [
    "### 485. 最大连续 1 的个数\n",
    "\n",
    "给定一个二进制数组 nums ， 计算其中最大连续 1 的个数。"
   ]
  },
  {
   "cell_type": "code",
   "execution_count": 2,
   "metadata": {},
   "outputs": [],
   "source": [
    "from typing import List\n",
    "\n",
    "class Solution:\n",
    "    def findMaxConsecutiveOnes(self, nums: List[int]) -> int:\n",
    "        cnt, res = 0, 0\n",
    "        for i, num in enumerate(nums):\n",
    "            if nums[i] == 1:\n",
    "                cnt += 1\n",
    "            else:\n",
    "                res = max(cnt, res)\n",
    "                cnt = 0\n",
    "        res = max(cnt, res)\n",
    "        return res"
   ]
  },
  {
   "attachments": {},
   "cell_type": "markdown",
   "metadata": {},
   "source": [
    "### 566. 重塑矩阵\n",
    "\n",
    "在 MATLAB 中，有一个非常有用的函数 reshape ，它可以将一个 m x n 矩阵重塑为另一个大小不同（r x c）的新矩阵，但保留其原始数据。\n",
    "\n",
    "给你一个由二维数组 mat 表示的 m x n 矩阵，以及两个正整数 r 和 c ，分别表示想要的重构的矩阵的行数和列数。\n",
    "\n",
    "重构后的矩阵需要将原始矩阵的所有元素以相同的 行遍历顺序 填充。\n",
    "\n",
    "如果具有给定参数的 reshape 操作是可行且合理的，则输出新的重塑矩阵；否则，输出原始矩阵。"
   ]
  },
  {
   "cell_type": "code",
   "execution_count": 1,
   "metadata": {},
   "outputs": [],
   "source": [
    "from typing import List\n",
    "\n",
    "class Solution:\n",
    "    def matrixReshape(self, mat: List[List[int]], r: int, c: int) -> List[List[int]]:\n",
    "        m = len(mat)\n",
    "        n = len(mat[0])\n",
    "\n",
    "        if m * n != r * c:\n",
    "            return mat\n",
    "        \n",
    "        new_mat = [[0 for _ in range(c)] for _ in range(r)]\n",
    "\n",
    "        for i in range(m):\n",
    "            for j in range(n):\n",
    "                new_mat[int((i * n + j) / c)][(i * n + j) % c] = mat[i][j]\n",
    "\n",
    "        return new_mat"
   ]
  },
  {
   "attachments": {},
   "cell_type": "markdown",
   "metadata": {},
   "source": [
    "#### 解题思路\n",
    "\n",
    "1. 除法与取余确定新数组的赋值下标。"
   ]
  },
  {
   "attachments": {},
   "cell_type": "markdown",
   "metadata": {},
   "source": [
    "### 240. 搜索二维矩阵 II\n",
    "\n",
    "编写一个高效的算法来搜索 m x n 矩阵 matrix 中的一个目标值 target 。该矩阵具有以下特性：\n",
    "\n",
    "每行的元素从左到右升序排列。\n",
    "每列的元素从上到下升序排列。"
   ]
  },
  {
   "cell_type": "code",
   "execution_count": 1,
   "metadata": {},
   "outputs": [],
   "source": [
    "from typing import List\n",
    "\n",
    "class Solution:\n",
    "    def searchMatrix(self, matrix: List[List[int]], target: int) -> bool:\n",
    "        x = 0\n",
    "        y = len(matrix[0]) - 1\n",
    "        \n",
    "        while x < len(matrix) and y >= 0 and target != matrix[x][y]:\n",
    "            if target > matrix[x][y]:\n",
    "                x = x + 1\n",
    "            elif target < matrix[x][y]:\n",
    "                y = y - 1\n",
    "\n",
    "        if x >= len(matrix) or y < 0:\n",
    "            return False\n",
    "        else:\n",
    "            return True"
   ]
  },
  {
   "attachments": {},
   "cell_type": "markdown",
   "metadata": {},
   "source": [
    "#### 解题思路\n",
    "\n",
    "1. 左下角的元素是这一行中最小的元素，同时又是这一列中最大的元素。比较左下角元素和目标：\n",
    "2. 若左下角元素等于目标，则找到；\n",
    "3. 若左下角元素大于目标，则目标不可能存在于当前矩阵的最后一行，问题规模可以减小为在去掉最后一行的子矩阵中寻找目标；\n",
    "4. 若左下角元素小于目标，则目标不可能存在于当前矩阵的第一列，问题规模可以减小为在去掉第一列的子矩阵中寻找目标；\n",
    "5. 若最后矩阵减小为空，则说明不存在。"
   ]
  },
  {
   "attachments": {},
   "cell_type": "markdown",
   "metadata": {},
   "source": [
    "### 378. 有序矩阵中第 K 小的元素\n",
    "\n",
    "给你一个 n x n 矩阵 matrix ，其中每行和每列元素均按升序排序，找到矩阵中第 k 小的元素。\n",
    "请注意，它是 排序后 的第 k 小元素，而不是第 k 个 不同 的元素。\n",
    "\n",
    "你必须找到一个内存复杂度优于 O(n2) 的解决方案。"
   ]
  },
  {
   "cell_type": "code",
   "execution_count": 1,
   "metadata": {},
   "outputs": [],
   "source": [
    "from typing import List\n",
    "\n",
    "class Solution:\n",
    "    def kthSmallest(self, matrix: List[List[int]], k: int) -> int:\n",
    "        lis=[]\n",
    "        for l in matrix:\n",
    "            lis+=l\n",
    "        lis.sort()\n",
    "\n",
    "        return lis[k-1]"
   ]
  },
  {
   "cell_type": "code",
   "execution_count": 2,
   "metadata": {},
   "outputs": [],
   "source": [
    "from typing import List\n",
    "import heapq\n",
    "\n",
    "class Solution:\n",
    "    def kthSmallest(self, matrix: List[List[int]], k: int) -> int:\n",
    "        m, n = len(matrix), len(matrix[0])\n",
    "        hp   = []\n",
    "        for ii in range(m):\n",
    "            for jj in range(n):\n",
    "                heapq.heappush(hp, matrix[ii][jj])\n",
    "                if len(hp) > m*n-k+1:\n",
    "                    heapq.heappop(hp)\n",
    "        return heapq.heappop(hp)"
   ]
  },
  {
   "attachments": {},
   "cell_type": "markdown",
   "metadata": {},
   "source": [
    "#### 解题思路：\n",
    "\n",
    "1. 给矩阵所有元素排序，然后选出第 k 小的元素；\n",
    "2. 暴力比堆排序时间复杂度更低？"
   ]
  },
  {
   "attachments": {},
   "cell_type": "markdown",
   "metadata": {},
   "source": [
    "### "
   ]
  }
 ],
 "metadata": {
  "kernelspec": {
   "display_name": "base",
   "language": "python",
   "name": "python3"
  },
  "language_info": {
   "codemirror_mode": {
    "name": "ipython",
    "version": 3
   },
   "file_extension": ".py",
   "mimetype": "text/x-python",
   "name": "python",
   "nbconvert_exporter": "python",
   "pygments_lexer": "ipython3",
   "version": "3.7.8"
  },
  "orig_nbformat": 4,
  "vscode": {
   "interpreter": {
    "hash": "eb16a45d3969af144375f8a71e40c490388b4fb3c27d50b5e869e018dcf9dd9d"
   }
  }
 },
 "nbformat": 4,
 "nbformat_minor": 2
}
