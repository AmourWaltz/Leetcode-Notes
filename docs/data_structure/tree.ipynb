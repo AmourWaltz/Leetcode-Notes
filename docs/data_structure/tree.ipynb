{
 "cells": [
  {
   "attachments": {},
   "cell_type": "markdown",
   "metadata": {},
   "source": [
    "## 110. 平衡二叉树\n",
    "\n",
    "给定一个二叉树，判断它是否是高度平衡的二叉树。\n",
    "\n",
    "本题中，一棵高度平衡二叉树定义为：\n",
    "\n",
    "> 一个二叉树每个节点 的左右两个子树的高度差的绝对值不超过 1 。\n",
    "\n"
   ]
  },
  {
   "cell_type": "code",
   "execution_count": 4,
   "metadata": {},
   "outputs": [],
   "source": [
    "from typing import Optional\n",
    "\n",
    "# Definition for a binary tree node.\n",
    "class TreeNode:\n",
    "    def __init__(self, val=0, left=None, right=None):\n",
    "        self.val = val\n",
    "        self.left = left\n",
    "        self.right = right\n",
    "        \n",
    "class Solution:\n",
    "    def isBalanced(self, root: Optional[TreeNode]) -> bool:\n",
    "        def height(root: Optional[TreeNode]) -> int:\n",
    "            if root is None:\n",
    "                return 0\n",
    "\n",
    "            l_height = height(root.left)\n",
    "            r_height = height(root.right)\n",
    "\n",
    "            # Annotation 1: if height(root.left) is False or height(root.right) is False or abs(height(root.right) - height(root.left)) > 1:\n",
    "            if l_height is False or r_height is False or abs(r_height - l_height) > 1:\n",
    "                return False\n",
    "            else:\n",
    "                return 1 + max(l_height, r_height)\n",
    "        \n",
    "        if height(root) is False:\n",
    "            return False\n",
    "        else:\n",
    "            return True"
   ]
  },
  {
   "attachments": {},
   "cell_type": "markdown",
   "metadata": {},
   "source": [
    "#### 解题思路\n",
    "\n",
    "1. 使用递归，返回每个节点的高度并判断当前节点的子节点高度之差是否符合平衡树定义，只要一个节点不符合平衡树返回 False，就全部返回 False；\n",
    "2. 由于返回值数据类型不一致，另定义判断高度的函数，只在根节点上返回最终判断结果；\n",
    "3. 判断高度时避免重复调用递归函数，增加时间成本，如注释第一处。"
   ]
  },
  {
   "attachments": {},
   "cell_type": "markdown",
   "metadata": {},
   "source": [
    "## 543. 二叉树的直径\n",
    "\n",
    "给定一棵二叉树，你需要计算它的直径长度。一棵二叉树的直径长度是任意两个结点路径长度中的最大值。这条路径可能穿过也可能不穿过根结点。"
   ]
  },
  {
   "cell_type": "code",
   "execution_count": 2,
   "metadata": {},
   "outputs": [],
   "source": [
    "from typing import Optional\n",
    "\n",
    "# Definition for a binary tree node.\n",
    "class TreeNode:\n",
    "    def __init__(self, val=0, left=None, right=None):\n",
    "        self.val = val\n",
    "        self.left = left\n",
    "        self.right = right\n",
    "\n",
    "class Solution:\n",
    "    def diameterOfBinaryTree(self, root: Optional[TreeNode]) -> int:\n",
    "        def maxDiameter(root: Optional[TreeNode]) -> int:\n",
    "            if not root:\n",
    "                return 0, 0\n",
    "\n",
    "            l_dep, l_dia = maxDiameter(root.left)\n",
    "            r_dep, r_dia = maxDiameter(root.right)\n",
    "\n",
    "            dia = l_dep + r_dep\n",
    "\n",
    "            if root.left or root.right:\n",
    "                return 1 + max(l_dep, r_dep), max(dia, l_dia, r_dia)\n",
    "            else:\n",
    "                return 1, 0\n",
    "        \n",
    "        _, dia = maxDiameter(root)\n",
    "\n",
    "        return dia"
   ]
  },
  {
   "attachments": {},
   "cell_type": "markdown",
   "metadata": {},
   "source": [
    "#### 解题思路\n",
    "\n",
    "1. 使用递归，返回每个节点的高度以及直径，然后更新当前节点的高度直径，再向上返回，保存最大直径；\n",
    "2. 由于返回值数包含两项据，另定义一个函数，主函数只接受根节点上返回的最大直径。"
   ]
  },
  {
   "attachments": {},
   "cell_type": "markdown",
   "metadata": {},
   "source": [
    "## 226. 翻转二叉树\n",
    "\n",
    "给你一棵二叉树的根节点 root ，翻转这棵二叉树，并返回其根节点。"
   ]
  },
  {
   "cell_type": "code",
   "execution_count": 3,
   "metadata": {},
   "outputs": [],
   "source": [
    "from typing import Optional\n",
    "\n",
    "# Definition for a binary tree node.\n",
    "class TreeNode:\n",
    "    def __init__(self, val=0, left=None, right=None):\n",
    "        self.val = val\n",
    "        self.left = left\n",
    "        self.right = right\n",
    "        \n",
    "class Solution:\n",
    "    def invertTree(self, root: Optional[TreeNode]) -> Optional[TreeNode]:\n",
    "        if root:\n",
    "           root.left, root.right = self.right, self.left\n",
    "           self.invertTree(root.left)\n",
    "           self.invertTree(root.right) \n",
    "           return root"
   ]
  },
  {
   "attachments": {},
   "cell_type": "markdown",
   "metadata": {},
   "source": [
    "#### 解题思路\n",
    "\n",
    "1. 前序遍历，更换每个节点左右两个子节点，所有节点遍历一次，即可翻转整个二叉树。"
   ]
  },
  {
   "attachments": {},
   "cell_type": "markdown",
   "metadata": {},
   "source": [
    "## 112. 路径总和\n",
    "\n",
    "给你二叉树的根节点 root 和一个表示目标和的整数 targetSum 。判断该树中是否存在 根节点到叶子节点 的路径，这条路径上所有节点值相加等于目标和 targetSum 。如果存在，返回 true ；否则，返回 false 。\n",
    "\n",
    "叶子节点 是指没有子节点的节点。"
   ]
  },
  {
   "cell_type": "code",
   "execution_count": 1,
   "metadata": {},
   "outputs": [],
   "source": [
    "from typing import Optional\n",
    "\n",
    "# Definition for a binary tree node.\n",
    "class TreeNode:\n",
    "    def __init__(self, val=0, left=None, right=None):\n",
    "        self.val = val\n",
    "        self.left = left\n",
    "        self.right = right\n",
    "        \n",
    "class Solution:\n",
    "    def hasPathSum(self, root: Optional[TreeNode], targetSum: int) -> bool:\n",
    "        self.res = False\n",
    "\n",
    "        def pathSum(root: Optional[TreeNode], curSum: int) -> bool:\n",
    "            if not root:\n",
    "                return\n",
    "            \n",
    "            curSum += root.val\n",
    "            pathSum(root.left, curSum)\n",
    "            pathSum(root.right, curSum)\n",
    "\n",
    "            if not root.left and not root.right and curSum == targetSum:\n",
    "                self.res = True\n",
    "\n",
    "        pathSum(root, 0)\n",
    "        return self.res "
   ]
  },
  {
   "attachments": {},
   "cell_type": "markdown",
   "metadata": {},
   "source": [
    "#### 解题思路\n",
    "\n",
    "1. 对于遍历过程只要出现一次就判断的值，通过定义一个\"全局\"值来判断，只要发生就设置改值为 True，最后返回；\n",
    "2. 发生条件：叶子节点时才和为目标值，判断一次即可；\n",
    "3. 使用深度优先遍历。"
   ]
  },
  {
   "attachments": {},
   "cell_type": "markdown",
   "metadata": {},
   "source": [
    "## 101. 对称二叉树\n",
    "\n",
    "给你一个二叉树的根节点 root ， 检查它是否轴对称。"
   ]
  },
  {
   "cell_type": "code",
   "execution_count": null,
   "metadata": {},
   "outputs": [],
   "source": [
    "from typing import Optional\n",
    "\n",
    "# Definition for a binary tree node.\n",
    "class TreeNode:\n",
    "    def __init__(self, val=0, left=None, right=None):\n",
    "        self.val = val\n",
    "        self.left = left\n",
    "        self.right = right\n",
    "\n",
    "class Solution:\n",
    "    def isSymmetric(self, root: Optional[TreeNode]) -> bool:\n",
    "        # def reverse(root):\n",
    "        #     if not root:\n",
    "        #         return\n",
    "            \n",
    "        #     root.left, root.right = reverse(root.right), reverse(root.left)\n",
    "\n",
    "        #     return root\n",
    "\n",
    "        # print(root.right)\n",
    "        # print(reverse(root.right))\n",
    "        # print(root.left == reverse(root.right))\n",
    "        # if root.left == reverse(root.right):\n",
    "        #     return True\n",
    "        # else:\n",
    "        #     return False\n",
    "        def check(node1, node2):\n",
    "            if not node1 and not node2:\n",
    "                return True\n",
    "            elif not node1 or not node2:\n",
    "                return False\n",
    "\n",
    "            if node1.val != node2.val:\n",
    "                return False\n",
    "            \n",
    "            return check(node1.left, node2.right) and check(node1.right, node2.left)\n",
    "        return check(root.left, root.right)"
   ]
  },
  {
   "attachments": {},
   "cell_type": "markdown",
   "metadata": {},
   "source": [
    "#### 解题思路\n",
    "\n",
    "1. 递归思路，传进左右两个子节点，左节点的子左节点永远应该永远等于右节点的子右节点（与判断），值相同且均不为空，然后进行迭代；\n",
    "2. 翻转树，翻转左子树判断是否等于右子树，另需要判断两棵树是否相同。"
   ]
  },
  {
   "attachments": {},
   "cell_type": "markdown",
   "metadata": {},
   "source": [
    "## 100. 相同的树\n",
    "\n",
    "给你两棵二叉树的根节点 p 和 q ，编写一个函数来检验这两棵树是否相同。\n",
    "\n",
    "如果两个树在结构上相同，并且节点具有相同的值，则认为它们是相同的。"
   ]
  },
  {
   "cell_type": "code",
   "execution_count": 1,
   "metadata": {},
   "outputs": [],
   "source": [
    "from typing import Optional\n",
    "\n",
    "# Definition for a binary tree node.\n",
    "class TreeNode:\n",
    "    def __init__(self, val=0, left=None, right=None):\n",
    "        self.val = val\n",
    "        self.left = left\n",
    "        self.right = right\n",
    "        \n",
    "class Solution:\n",
    "    def isSameTree(self, p: Optional[TreeNode], q: Optional[TreeNode]) -> bool:\n",
    "        if not p and not q:\n",
    "            return True\n",
    "        elif not p or not q:\n",
    "            return False\n",
    "\n",
    "        return self.isSameTree(p.left, q.left) and self.isSameTree(p.right, q.right) and p.val == q.val"
   ]
  },
  {
   "attachments": {},
   "cell_type": "markdown",
   "metadata": {},
   "source": [
    "#### 解题思路\n",
    "\n",
    "1. 递归，传进左右两个子节点，左节点的子左右节点永远应该永远等于右节点的子左右节点，值相同且均不为空，一条与判断；"
   ]
  },
  {
   "cell_type": "markdown",
   "metadata": {},
   "source": []
  }
 ],
 "metadata": {
  "kernelspec": {
   "display_name": "base",
   "language": "python",
   "name": "python3"
  },
  "language_info": {
   "codemirror_mode": {
    "name": "ipython",
    "version": 3
   },
   "file_extension": ".py",
   "mimetype": "text/x-python",
   "name": "python",
   "nbconvert_exporter": "python",
   "pygments_lexer": "ipython3",
   "version": "3.7.8"
  },
  "orig_nbformat": 4
 },
 "nbformat": 4,
 "nbformat_minor": 2
}
