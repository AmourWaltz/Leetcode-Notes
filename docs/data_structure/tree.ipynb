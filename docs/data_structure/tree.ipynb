{
 "cells": [
  {
   "attachments": {},
   "cell_type": "markdown",
   "metadata": {},
   "source": [
    "## 110. 平衡二叉树\n",
    "\n",
    "给定一个二叉树，判断它是否是高度平衡的二叉树。\n",
    "\n",
    "本题中，一棵高度平衡二叉树定义为：\n",
    "\n",
    "> 一个二叉树每个节点 的左右两个子树的高度差的绝对值不超过 1 。\n",
    "\n"
   ]
  },
  {
   "cell_type": "code",
   "execution_count": 4,
   "metadata": {},
   "outputs": [],
   "source": [
    "from typing import Optional\n",
    "\n",
    "# Definition for a binary tree node.\n",
    "class TreeNode:\n",
    "    def __init__(self, val=0, left=None, right=None):\n",
    "        self.val = val\n",
    "        self.left = left\n",
    "        self.right = right\n",
    "        \n",
    "class Solution:\n",
    "    def isBalanced(self, root: Optional[TreeNode]) -> bool:\n",
    "        def height(root: Optional[TreeNode]) -> int:\n",
    "            if root is None:\n",
    "                return 0\n",
    "\n",
    "            l_height = height(root.left)\n",
    "            r_height = height(root.right)\n",
    "\n",
    "            # Annotation 1: if height(root.left) is False or height(root.right) is False or abs(height(root.right) - height(root.left)) > 1:\n",
    "            if l_height is False or r_height is False or abs(r_height - l_height) > 1:\n",
    "                return False\n",
    "            else:\n",
    "                return 1 + max(l_height, r_height)\n",
    "        \n",
    "        if height(root) is False:\n",
    "            return False\n",
    "        else:\n",
    "            return True"
   ]
  },
  {
   "attachments": {},
   "cell_type": "markdown",
   "metadata": {},
   "source": [
    "#### 解题思路\n",
    "\n",
    "1. 使用递归，返回每个节点的高度并判断当前节点的子节点高度之差是否符合平衡树定义，只要一个节点不符合平衡树返回 False，就全部返回 False；\n",
    "2. 由于返回值数据类型不一致，另定义判断高度的函数，只在根节点上返回最终判断结果；\n",
    "3. 判断高度时避免重复调用递归函数，增加时间成本，如注释第一处。"
   ]
  }
 ],
 "metadata": {
  "kernelspec": {
   "display_name": "base",
   "language": "python",
   "name": "python3"
  },
  "language_info": {
   "codemirror_mode": {
    "name": "ipython",
    "version": 3
   },
   "file_extension": ".py",
   "mimetype": "text/x-python",
   "name": "python",
   "nbconvert_exporter": "python",
   "pygments_lexer": "ipython3",
   "version": "3.7.8"
  },
  "orig_nbformat": 4
 },
 "nbformat": 4,
 "nbformat_minor": 2
}
