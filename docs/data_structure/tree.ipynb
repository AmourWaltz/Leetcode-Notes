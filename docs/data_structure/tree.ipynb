{
 "cells": [
  {
   "attachments": {},
   "cell_type": "markdown",
   "metadata": {},
   "source": [
    "# 递归"
   ]
  },
  {
   "attachments": {},
   "cell_type": "markdown",
   "metadata": {},
   "source": [
    "## 110. 平衡二叉树\n",
    "\n",
    "给定一个二叉树，判断它是否是高度平衡的二叉树。\n",
    "\n",
    "本题中，一棵高度平衡二叉树定义为：\n",
    "\n",
    "> 一个二叉树每个节点 的左右两个子树的高度差的绝对值不超过 1 。"
   ]
  },
  {
   "cell_type": "code",
   "execution_count": 4,
   "metadata": {},
   "outputs": [],
   "source": [
    "from typing import Optional\n",
    "\n",
    "# Definition for a binary tree node.\n",
    "class TreeNode:\n",
    "    def __init__(self, val=0, left=None, right=None):\n",
    "        self.val = val\n",
    "        self.left = left\n",
    "        self.right = right\n",
    "        \n",
    "class Solution:\n",
    "    def isBalanced(self, root: Optional[TreeNode]) -> bool:\n",
    "        def height(root: Optional[TreeNode]) -> int:\n",
    "            if root is None:\n",
    "                return 0\n",
    "\n",
    "            l_height = height(root.left)\n",
    "            r_height = height(root.right)\n",
    "\n",
    "            # Annotation 1: if height(root.left) is False or height(root.right) is False or abs(height(root.right) - height(root.left)) > 1:\n",
    "            if l_height is False or r_height is False or abs(r_height - l_height) > 1:\n",
    "                return False\n",
    "            else:\n",
    "                return 1 + max(l_height, r_height)\n",
    "        \n",
    "        if height(root) is False:\n",
    "            return False\n",
    "        else:\n",
    "            return True"
   ]
  },
  {
   "attachments": {},
   "cell_type": "markdown",
   "metadata": {},
   "source": [
    "#### 解题思路\n",
    "\n",
    "1. 使用递归，返回每个节点的高度并判断当前节点的子节点高度之差是否符合平衡树定义，只要一个节点不符合平衡树返回 False，就全部返回 False；\n",
    "2. 由于返回值数据类型不一致，另定义判断高度的函数，只在根节点上返回最终判断结果；\n",
    "3. 判断高度时避免重复调用递归函数，增加时间成本，如注释第一处。"
   ]
  },
  {
   "attachments": {},
   "cell_type": "markdown",
   "metadata": {},
   "source": [
    "## 543. 二叉树的直径\n",
    "\n",
    "给定一棵二叉树，你需要计算它的直径长度。一棵二叉树的直径长度是任意两个结点路径长度中的最大值。这条路径可能穿过也可能不穿过根结点。"
   ]
  },
  {
   "cell_type": "code",
   "execution_count": 2,
   "metadata": {},
   "outputs": [],
   "source": [
    "from typing import Optional\n",
    "\n",
    "# Definition for a binary tree node.\n",
    "class TreeNode:\n",
    "    def __init__(self, val=0, left=None, right=None):\n",
    "        self.val = val\n",
    "        self.left = left\n",
    "        self.right = right\n",
    "\n",
    "class Solution:\n",
    "    def diameterOfBinaryTree(self, root: Optional[TreeNode]) -> int:\n",
    "        def maxDiameter(root: Optional[TreeNode]) -> int:\n",
    "            if not root:\n",
    "                return 0, 0\n",
    "\n",
    "            l_dep, l_dia = maxDiameter(root.left)\n",
    "            r_dep, r_dia = maxDiameter(root.right)\n",
    "\n",
    "            dia = l_dep + r_dep\n",
    "\n",
    "            if root.left or root.right:\n",
    "                return 1 + max(l_dep, r_dep), max(dia, l_dia, r_dia)\n",
    "            else:\n",
    "                return 1, 0\n",
    "        \n",
    "        _, dia = maxDiameter(root)\n",
    "\n",
    "        return dia"
   ]
  },
  {
   "attachments": {},
   "cell_type": "markdown",
   "metadata": {},
   "source": [
    "#### 解题思路\n",
    "\n",
    "1. 使用递归，返回每个节点的高度以及直径，然后更新当前节点的高度直径，再向上返回，保存最大直径；\n",
    "2. 由于返回值数包含两项据，另定义一个函数，主函数只接受根节点上返回的最大直径。"
   ]
  },
  {
   "attachments": {},
   "cell_type": "markdown",
   "metadata": {},
   "source": [
    "## 226. 翻转二叉树\n",
    "\n",
    "给你一棵二叉树的根节点 root ，翻转这棵二叉树，并返回其根节点。"
   ]
  },
  {
   "cell_type": "code",
   "execution_count": 3,
   "metadata": {},
   "outputs": [],
   "source": [
    "from typing import Optional\n",
    "\n",
    "# Definition for a binary tree node.\n",
    "class TreeNode:\n",
    "    def __init__(self, val=0, left=None, right=None):\n",
    "        self.val = val\n",
    "        self.left = left\n",
    "        self.right = right\n",
    "        \n",
    "class Solution:\n",
    "    def invertTree(self, root: Optional[TreeNode]) -> Optional[TreeNode]:\n",
    "        if root:\n",
    "           root.left, root.right = self.right, self.left\n",
    "           self.invertTree(root.left)\n",
    "           self.invertTree(root.right) \n",
    "           return root"
   ]
  },
  {
   "attachments": {},
   "cell_type": "markdown",
   "metadata": {},
   "source": [
    "#### 解题思路\n",
    "\n",
    "1. 前序遍历，更换每个节点左右两个子节点，所有节点遍历一次，即可翻转整个二叉树。"
   ]
  },
  {
   "attachments": {},
   "cell_type": "markdown",
   "metadata": {},
   "source": [
    "## 112. 路径总和\n",
    "\n",
    "给你二叉树的根节点 root 和一个表示目标和的整数 targetSum 。判断该树中是否存在 根节点到叶子节点 的路径，这条路径上所有节点值相加等于目标和 targetSum 。如果存在，返回 true ；否则，返回 false 。\n",
    "\n",
    "叶子节点 是指没有子节点的节点。"
   ]
  },
  {
   "cell_type": "code",
   "execution_count": 1,
   "metadata": {},
   "outputs": [],
   "source": [
    "from typing import Optional\n",
    "\n",
    "# Definition for a binary tree node.\n",
    "class TreeNode:\n",
    "    def __init__(self, val=0, left=None, right=None):\n",
    "        self.val = val\n",
    "        self.left = left\n",
    "        self.right = right\n",
    "        \n",
    "class Solution:\n",
    "    def hasPathSum(self, root: Optional[TreeNode], targetSum: int) -> bool:\n",
    "        self.res = False\n",
    "\n",
    "        def pathSum(root: Optional[TreeNode], curSum: int) -> bool:\n",
    "            if not root:\n",
    "                return\n",
    "            \n",
    "            curSum += root.val\n",
    "            pathSum(root.left, curSum)\n",
    "            pathSum(root.right, curSum)\n",
    "\n",
    "            if not root.left and not root.right and curSum == targetSum:\n",
    "                self.res = True\n",
    "\n",
    "        pathSum(root, 0)\n",
    "        return self.res "
   ]
  },
  {
   "attachments": {},
   "cell_type": "markdown",
   "metadata": {},
   "source": [
    "#### 解题思路\n",
    "\n",
    "1. 对于遍历过程只要出现一次就判断的值，通过定义一个\"全局\"值来判断，只要发生就设置改值为 True，最后返回；\n",
    "2. 发生条件：叶子节点时才和为目标值，判断一次即可；\n",
    "3. 使用深度优先遍历。"
   ]
  },
  {
   "attachments": {},
   "cell_type": "markdown",
   "metadata": {},
   "source": [
    "## 101. 对称二叉树\n",
    "\n",
    "给你一个二叉树的根节点 root ， 检查它是否轴对称。"
   ]
  },
  {
   "cell_type": "code",
   "execution_count": null,
   "metadata": {},
   "outputs": [],
   "source": [
    "from typing import Optional\n",
    "\n",
    "# Definition for a binary tree node.\n",
    "class TreeNode:\n",
    "    def __init__(self, val=0, left=None, right=None):\n",
    "        self.val = val\n",
    "        self.left = left\n",
    "        self.right = right\n",
    "\n",
    "class Solution:\n",
    "    def isSymmetric(self, root: Optional[TreeNode]) -> bool:\n",
    "        # def reverse(root):\n",
    "        #     if not root:\n",
    "        #         return\n",
    "            \n",
    "        #     root.left, root.right = reverse(root.right), reverse(root.left)\n",
    "\n",
    "        #     return root\n",
    "\n",
    "        # print(root.right)\n",
    "        # print(reverse(root.right))\n",
    "        # print(root.left == reverse(root.right))\n",
    "        # if root.left == reverse(root.right):\n",
    "        #     return True\n",
    "        # else:\n",
    "        #     return False\n",
    "        def check(node1, node2):\n",
    "            if not node1 and not node2:\n",
    "                return True\n",
    "            elif not node1 or not node2:\n",
    "                return False\n",
    "\n",
    "            if node1.val != node2.val:\n",
    "                return False\n",
    "            \n",
    "            return check(node1.left, node2.right) and check(node1.right, node2.left)\n",
    "        return check(root.left, root.right)"
   ]
  },
  {
   "attachments": {},
   "cell_type": "markdown",
   "metadata": {},
   "source": [
    "#### 解题思路\n",
    "\n",
    "1. 递归思路，传进左右两个子节点，左节点的子左节点永远应该永远等于右节点的子右节点（与判断），值相同且均不为空，然后进行迭代；\n",
    "2. 翻转树，翻转左子树判断是否等于右子树，另需要判断两棵树是否相同。"
   ]
  },
  {
   "attachments": {},
   "cell_type": "markdown",
   "metadata": {},
   "source": [
    "## 100. 相同的树\n",
    "\n",
    "给你两棵二叉树的根节点 p 和 q ，编写一个函数来检验这两棵树是否相同。\n",
    "\n",
    "如果两个树在结构上相同，并且节点具有相同的值，则认为它们是相同的。"
   ]
  },
  {
   "cell_type": "code",
   "execution_count": 2,
   "metadata": {},
   "outputs": [],
   "source": [
    "from typing import Optional\n",
    "\n",
    "# Definition for a binary tree node.\n",
    "class TreeNode:\n",
    "    def __init__(self, val=0, left=None, right=None):\n",
    "        self.val = val\n",
    "        self.left = left\n",
    "        self.right = right\n",
    "        \n",
    "class Solution:\n",
    "    def isSameTree(self, p: Optional[TreeNode], q: Optional[TreeNode]) -> bool:\n",
    "        if not p and not q:\n",
    "            return True\n",
    "        elif not p or not q:\n",
    "            return False\n",
    "\n",
    "        return self.isSameTree(p.left, q.left) and self.isSameTree(p.right, q.right) and p.val == q.val"
   ]
  },
  {
   "attachments": {},
   "cell_type": "markdown",
   "metadata": {},
   "source": [
    "#### 解题思路\n",
    "\n",
    "1. 递归，传进左右两个子节点，左节点的子左右节点永远应该永远等于右节点的子左右节点，值相同且均不为空，一条与判断。"
   ]
  },
  {
   "attachments": {},
   "cell_type": "markdown",
   "metadata": {},
   "source": [
    "## 404. 左叶子之和\n",
    "\n",
    "给定二叉树的根节点 root ，返回所有左叶子之和。"
   ]
  },
  {
   "cell_type": "code",
   "execution_count": 3,
   "metadata": {},
   "outputs": [],
   "source": [
    "from typing import Optional\n",
    "\n",
    "# Definition for a binary tree node.\n",
    "class TreeNode:\n",
    "    def __init__(self, val=0, left=None, right=None):\n",
    "        self.val = val\n",
    "        self.left = left\n",
    "        self.right = right\n",
    "\n",
    "class Solution:\n",
    "    def sumOfLeftLeaves(self, root: Optional[TreeNode]) -> int:\n",
    "        if not root:\n",
    "            return 0\n",
    "\n",
    "        if root.left and not root.left.left and not root.left.right:\n",
    "            return root.left.val + self.sumOfLeftLeaves(root.right)\n",
    "        else:\n",
    "            return self.sumOfLeftLeaves(root.left) + self.sumOfLeftLeaves(root.right)"
   ]
  },
  {
   "attachments": {},
   "cell_type": "markdown",
   "metadata": {},
   "source": [
    "#### 解题思路\n",
    "\n",
    "1. 首先需要判断终止条件是否为左叶子节点，即当前节点的左子节点不为空且其左右子节点均为空，满足此条件可加和，其余情况则不断递归直至遍历所有节点。"
   ]
  },
  {
   "attachments": {},
   "cell_type": "markdown",
   "metadata": {},
   "source": [
    "## 687. 最长同值路径\n",
    "\n",
    "给定一个二叉树的 root ，返回 最长的路径的长度 ，这个路径中的 每个节点具有相同值 。 这条路径可以经过也可以不经过根节点。\n",
    "\n",
    "两个节点之间的路径长度 由它们之间的边数表示。"
   ]
  },
  {
   "cell_type": "code",
   "execution_count": 1,
   "metadata": {},
   "outputs": [],
   "source": [
    "from typing import Optional\n",
    "\n",
    "# Definition for a binary tree node.\n",
    "class TreeNode:\n",
    "    def __init__(self, val=0, left=None, right=None):\n",
    "        self.val = val\n",
    "        self.left = left\n",
    "        self.right = right\n",
    "        \n",
    "class Solution:\n",
    "    def longestUnivaluePath(self, root: Optional[TreeNode]) -> int:\n",
    "        maxL = 0\n",
    "        \n",
    "        def getMax(node, val):\n",
    "            nonlocal maxL\n",
    "            if not node:\n",
    "                return 0\n",
    "\n",
    "            leftMax = getMax(node.left, node.val)\n",
    "            rightMax = getMax(node.right, node.val)\n",
    "\n",
    "            maxL = max(maxL, leftMax + rightMax)\n",
    "\n",
    "            if node.val == val:\n",
    "                return max(leftMax, rightMax) + 1\n",
    "            else:\n",
    "                return 0\n",
    "            \n",
    "        if root != None:\n",
    "            getMax(root, root.val)\n",
    "\n",
    "        return maxL"
   ]
  },
  {
   "attachments": {},
   "cell_type": "markdown",
   "metadata": {},
   "source": [
    "#### 解题思路\n",
    "\n",
    "1. 递归思路，遍历所有节点，单值最长路径，以某个根节点为中心，左右最长路径之和，然后判断是否更新路径长度；\n",
    "2. 路径长度可以用全局变量或外部局部变量记录更新；\n",
    "3. 递归函数返回值为当前节点最长左右子路径或0（判断是否与父节点值相同）。"
   ]
  },
  {
   "attachments": {},
   "cell_type": "markdown",
   "metadata": {},
   "source": [
    "## 111. 二叉树的最小深度\n",
    "\n",
    "给定一个二叉树，找出其最小深度。\n",
    "\n",
    "最小深度是从根节点到最近叶子节点的最短路径上的节点数量。\n",
    "\n",
    "说明：叶子节点是指没有子节点的节点。"
   ]
  },
  {
   "cell_type": "code",
   "execution_count": 1,
   "metadata": {},
   "outputs": [],
   "source": [
    "from typing import Optional\n",
    "\n",
    "# Definition for a binary tree node.\n",
    "class TreeNode:\n",
    "    def __init__(self, val=0, left=None, right=None):\n",
    "        self.val = val\n",
    "        self.left = left\n",
    "        self.right = right\n",
    "\n",
    "class Solution:\n",
    "    def minDepth(self, root: Optional[TreeNode]) -> int:\n",
    "        if not root:\n",
    "            return 0\n",
    "        \n",
    "        if root.left and root.right:\n",
    "            return 1 + min(self.minDepth(root.left), self.minDepth(root.right))\n",
    "        elif root.left:\n",
    "            return 1 + self.minDepth(root.left)\n",
    "        elif root.right:\n",
    "            return 1 + self.minDepth(root.right)\n",
    "        else:\n",
    "            return 1"
   ]
  },
  {
   "attachments": {},
   "cell_type": "markdown",
   "metadata": {},
   "source": [
    "#### 解题思路\n",
    "\n",
    "1. 每个节点的最小深度是其左右子节点的最小深度，依次迭代；\n",
    "2. 遍历到叶子节点返回深度1，每次节点向父节点返回最小深度时深度每+1。"
   ]
  },
  {
   "attachments": {},
   "cell_type": "markdown",
   "metadata": {},
   "source": [
    "## 572. 另一棵树的子树\n",
    "\n",
    "给你两棵二叉树 root 和 subRoot 。检验 root 中是否包含和 subRoot 具有相同结构和节点值的子树。如果存在，返回 true ；否则，返回 false 。\n",
    "\n",
    "二叉树 tree 的一棵子树包括 tree 的某个节点和这个节点的所有后代节点。tree 也可以看做它自身的一棵子树。"
   ]
  },
  {
   "cell_type": "code",
   "execution_count": 5,
   "metadata": {},
   "outputs": [],
   "source": [
    "from typing import Optional\n",
    "\n",
    "# Definition for a binary tree node.\n",
    "class TreeNode:\n",
    "    def __init__(self, val=0, left=None, right=None):\n",
    "        self.val = val\n",
    "        self.left = left\n",
    "        self.right = right\n",
    "        \n",
    "class Solution:\n",
    "    def isSubtree(self, root: Optional[TreeNode], subRoot: Optional[TreeNode]) -> bool:\n",
    "        def isSameTree(node1, node2):\n",
    "            if not node1 and not node2:\n",
    "                return True\n",
    "            elif not node1 or not node2:\n",
    "                return False\n",
    "\n",
    "            return isSameTree(node1.left, node2.left) and isSameTree(node1.right, node2.right) and node1.val == node2.val\n",
    "        \n",
    "        def preorder(root, subRoot):\n",
    "            if not root:\n",
    "                return False\n",
    "            resleft = preorder(root.left, subRoot)\n",
    "            resright = preorder(root.right, subRoot)\n",
    "\n",
    "            return resleft or resright or isSameTree(root, subRoot)\n",
    "        \n",
    "        def layer(root, subRoot):\n",
    "            queue = [root]\n",
    "            while queue:\n",
    "                node = queue.pop(0)\n",
    "                if isSameTree(node, subRoot):\n",
    "                    return True\n",
    "                if node.left:\n",
    "                    queue.append(node.left)\n",
    "                if node.right:\n",
    "                    queue.append(node.right)\n",
    "\n",
    "            return False\n",
    "        \n",
    "        return preorder(root, subRoot)"
   ]
  },
  {
   "attachments": {},
   "cell_type": "markdown",
   "metadata": {},
   "source": [
    "#### 解题思路\n",
    "\n",
    "1. 辅助函数判断两棵树是否相同，然后遍历所有树的节点；\n",
    "2. 层序遍历时间最少，需熟练掌握所有遍历算法框架。"
   ]
  },
  {
   "attachments": {},
   "cell_type": "markdown",
   "metadata": {},
   "source": [
    "# 层序遍历"
   ]
  },
  {
   "attachments": {},
   "cell_type": "markdown",
   "metadata": {},
   "source": [
    "## 637. 二叉树的层平均值\n",
    "\n",
    "给定一个非空二叉树的根节点 root , 以数组的形式返回每一层节点的平均值。与实际答案相差 10-5 以内的答案可以被接受。"
   ]
  },
  {
   "cell_type": "code",
   "execution_count": 4,
   "metadata": {},
   "outputs": [],
   "source": [
    "from typing import Optional, List\n",
    "\n",
    "# Definition for a binary tree node.\n",
    "class TreeNode:\n",
    "    def __init__(self, val=0, left=None, right=None):\n",
    "        self.val = val\n",
    "        self.left = left\n",
    "        self.right = right\n",
    "\n",
    "class Solution:\n",
    "    def averageOfLevels(self, root: Optional[TreeNode]) -> List[float]:\n",
    "        if not root:\n",
    "            return 0\n",
    "\n",
    "        res, level = [], [root]\n",
    "\n",
    "        while level:\n",
    "            sums = 0\n",
    "            nums = len(level)\n",
    "            next_level = []\n",
    "            for node in level:\n",
    "                sums += node.val\n",
    "                if node.left:\n",
    "                    next_level.append(node.left)\n",
    "                if node.right:\n",
    "                    next_level.append(node.right)\n",
    "\n",
    "            res.append(sums/nums)\n",
    "            level = next_level\n",
    "\n",
    "        return res"
   ]
  },
  {
   "attachments": {},
   "cell_type": "markdown",
   "metadata": {},
   "source": [
    "## 513. 找树左下角的值\n",
    "\n",
    "给定一个二叉树的 根节点 root，请找出该二叉树的 最底层 最左边 节点的值。\n",
    "\n",
    "假设二叉树中至少有一个节点。"
   ]
  },
  {
   "cell_type": "code",
   "execution_count": 3,
   "metadata": {},
   "outputs": [],
   "source": [
    "from typing import Optional\n",
    "\n",
    "# Definition for a binary tree node.\n",
    "class TreeNode:\n",
    "    def __init__(self, val=0, left=None, right=None):\n",
    "        self.val = val\n",
    "        self.left = left\n",
    "        self.right = right\n",
    "        \n",
    "class Solution:\n",
    "    def findBottomLeftValue(self, root: Optional[TreeNode]) -> int:\n",
    "        level = [root]\n",
    "        res = root.val\n",
    "        while level:\n",
    "            next_level = []\n",
    "            for node in level:\n",
    "                if node.left:\n",
    "                    next_level.append(node.left)\n",
    "                if node.right:\n",
    "                    next_level.append(node.right)\n",
    "            \n",
    "            if next_level:\n",
    "                res = next_level[0].val\n",
    "\n",
    "            level = next_level\n",
    "\n",
    "        return res"
   ]
  },
  {
   "attachments": {},
   "cell_type": "markdown",
   "metadata": {},
   "source": [
    "#### 解题思路\n",
    "\n",
    "1. 层次遍历基本思路：定义一个列表，存储每一层的节点；使用 while 循环，直到该列表为空即当前层没有叶子节点，遍历到最底层；\n",
    "2. 每一次循环时，把当前层节点的所有子节点都存储起来，作为下一层的节点集合。"
   ]
  },
  {
   "attachments": {},
   "cell_type": "markdown",
   "metadata": {},
   "source": [
    "# 前中后序遍历"
   ]
  },
  {
   "attachments": {},
   "cell_type": "markdown",
   "metadata": {},
   "source": [
    "## 非递归实现二叉树的前序遍历\n",
    "\n",
    "给你二叉树的根节点 root ，返回它节点值的 前序 遍历。"
   ]
  },
  {
   "cell_type": "code",
   "execution_count": 6,
   "metadata": {},
   "outputs": [],
   "source": [
    "from typing import Optional, List\n",
    "\n",
    "# Definition for a binary tree node.\n",
    "class TreeNode:\n",
    "    def __init__(self, val=0, left=None, right=None):\n",
    "        self.val = val\n",
    "        self.left = left\n",
    "        self.right = right\n",
    "\n",
    "class Solution:\n",
    "    def preorderTraversal(self, root: Optional[TreeNode]) -> List[int]:\n",
    "        res = []\n",
    "        def preorder(root):\n",
    "            if not root:\n",
    "                return\n",
    "            res.append(root.val)\n",
    "            preorder(root.left)\n",
    "            preorder(root.right)\n",
    "        \n",
    "        preorder(root)\n",
    "        return res\n",
    "    \n",
    "        # res, stack = [], [root]\n",
    "        # cur = root\n",
    "        # while stack:\n",
    "        #     cur = stack.pop()\n",
    "        #     if not cur:\n",
    "        #         continue\n",
    "        #     res.append(cur.val)\n",
    "        #     stack.append(cur.right)\n",
    "        #     stack.append(cur.left)\n",
    "\n",
    "        # return res\n"
   ]
  },
  {
   "attachments": {},
   "cell_type": "markdown",
   "metadata": {},
   "source": [
    "## 145. 二叉树的后序遍历\n",
    "\n",
    "给你一棵二叉树的根节点 root ，返回其节点值的 后序遍历 。"
   ]
  },
  {
   "cell_type": "code",
   "execution_count": 7,
   "metadata": {},
   "outputs": [],
   "source": [
    "from typing import Optional, List\n",
    "\n",
    "# Definition for a binary tree node.\n",
    "class TreeNode:\n",
    "    def __init__(self, val=0, left=None, right=None):\n",
    "        self.val = val\n",
    "        self.left = left\n",
    "        self.right = right\n",
    "\n",
    "class Solution:\n",
    "    def postorderTraversal(self, root: Optional[TreeNode]) -> List[int]:\n",
    "        if not root:\n",
    "            return []\n",
    "        return self.postorderTraversal(root.left) + self.postorderTraversal(root.right) + [root.val]\n",
    "        # res, stack = [], []\n",
    "        # cur, prev = root, None\n",
    "        # while cur or stack:\n",
    "        #     if cur:\n",
    "        #         stack.append(cur)\n",
    "        #         cur = cur.left\n",
    "        #     else:\n",
    "        #         cur = stack.pop()\n",
    "        #         if not cur.right or cur.right == prev:\n",
    "        #             res.append(cur.val)\n",
    "        #             prev = cur\n",
    "        #             cur = None\n",
    "        #         else:\n",
    "        #             stack.append(cur)\n",
    "        #             cur = cur.right\n",
    "\n",
    "        # return res"
   ]
  },
  {
   "attachments": {},
   "cell_type": "markdown",
   "metadata": {},
   "source": [
    "## 94. 二叉树的中序遍历\n",
    "\n",
    "给定一个二叉树的根节点 root ，返回 它的 中序 遍历 。"
   ]
  },
  {
   "cell_type": "code",
   "execution_count": 8,
   "metadata": {},
   "outputs": [],
   "source": [
    "from typing import Optional, List\n",
    "\n",
    "# Definition for a binary tree node.\n",
    "class TreeNode:\n",
    "    def __init__(self, val=0, left=None, right=None):\n",
    "        self.val = val\n",
    "        self.left = left\n",
    "        self.right = right\n",
    "\n",
    "class Solution:\n",
    "    def inorderTraversal(self, root: Optional[TreeNode]) -> List[int]:\n",
    "        res, stack = [], []\n",
    "        cur = root\n",
    "\n",
    "        while stack or cur:\n",
    "            if cur:\n",
    "                stack.append(cur)\n",
    "                cur = cur.left\n",
    "            else:\n",
    "                cur = stack.pop()\n",
    "                res.append(cur.val)\n",
    "                cur = cur.right\n",
    "        return res"
   ]
  },
  {
   "attachments": {},
   "cell_type": "markdown",
   "metadata": {},
   "source": [
    "#### 解题思路\n",
    "\n",
    "1. 二叉树的前中后序遍历，指的是根节点相对左右子节点的位置，即 前序：根>左>右；中序：左>根>右；后序：左>右>根。\n",
    "2. 前序遍历：递归大众版，定义前序遍历函数进行递归；\n",
    "3. 后序遍历：递归简洁版；\n",
    "4. 中序遍历：非递归版，以某个节点为根节点，循环遍历将所有左子节点添加到列表，直至为空，然后取出最后添加的节点，添加其值，再将右子节点作为根节点循环上述操作。"
   ]
  },
  {
   "cell_type": "markdown",
   "metadata": {},
   "source": []
  }
 ],
 "metadata": {
  "kernelspec": {
   "display_name": "base",
   "language": "python",
   "name": "python3"
  },
  "language_info": {
   "codemirror_mode": {
    "name": "ipython",
    "version": 3
   },
   "file_extension": ".py",
   "mimetype": "text/x-python",
   "name": "python",
   "nbconvert_exporter": "python",
   "pygments_lexer": "ipython3",
   "version": "3.7.8"
  },
  "orig_nbformat": 4
 },
 "nbformat": 4,
 "nbformat_minor": 2
}
